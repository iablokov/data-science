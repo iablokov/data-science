{
 "cells": [
  {
   "cell_type": "markdown",
   "metadata": {},
   "source": [
    "# Dataset Profiler"
   ]
  },
  {
   "cell_type": "code",
   "execution_count": 1,
   "metadata": {},
   "outputs": [
    {
     "ename": "ModuleNotFoundError",
     "evalue": "No module named 'dataset_profiler'",
     "output_type": "error",
     "traceback": [
      "\u001b[1;31m---------------------------------------------------------------------------\u001b[0m",
      "\u001b[1;31mModuleNotFoundError\u001b[0m                       Traceback (most recent call last)",
      "Cell \u001b[1;32mIn[1], line 3\u001b[0m\n\u001b[0;32m      1\u001b[0m \u001b[39mimport\u001b[39;00m \u001b[39mpandas\u001b[39;00m \u001b[39mas\u001b[39;00m \u001b[39mpd\u001b[39;00m\n\u001b[1;32m----> 3\u001b[0m \u001b[39mfrom\u001b[39;00m \u001b[39mdataset_profiler\u001b[39;00m \u001b[39mimport\u001b[39;00m DatasetProfiler\n",
      "\u001b[1;31mModuleNotFoundError\u001b[0m: No module named 'dataset_profiler'"
     ]
    }
   ],
   "source": [
    "import pandas as pd\n",
    "\n",
    "from dataset_profiler import DatasetProfiler"
   ]
  },
  {
   "cell_type": "code",
   "execution_count": 3,
   "metadata": {},
   "outputs": [
    {
     "name": "stdout",
     "output_type": "stream",
     "text": [
      " Volume in drive D has no label.\n",
      " Volume Serial Number is D6AA-874D\n",
      "\n",
      " Directory of d:\\work\\_github\\data-science\\dataset-profiler\\dataset_profiler\n",
      "\n",
      "08/07/2023  11:06 PM    <DIR>          .\n",
      "08/07/2023  11:06 PM    <DIR>          ..\n",
      "08/07/2023  11:06 PM                 0 example.ipynb\n",
      "08/07/2023  11:13 PM               343 __init__.py\n",
      "               2 File(s)            343 bytes\n",
      "               2 Dir(s)  470,312,497,152 bytes free\n"
     ]
    }
   ],
   "source": [
    "!dir"
   ]
  },
  {
   "cell_type": "code",
   "execution_count": null,
   "metadata": {},
   "outputs": [],
   "source": []
  }
 ],
 "metadata": {
  "kernelspec": {
   "display_name": "base",
   "language": "python",
   "name": "python3"
  },
  "language_info": {
   "codemirror_mode": {
    "name": "ipython",
    "version": 3
   },
   "file_extension": ".py",
   "mimetype": "text/x-python",
   "name": "python",
   "nbconvert_exporter": "python",
   "pygments_lexer": "ipython3",
   "version": "3.10.9"
  },
  "orig_nbformat": 4
 },
 "nbformat": 4,
 "nbformat_minor": 2
}
